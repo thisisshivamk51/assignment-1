{
 "cells": [
  {
   "cell_type": "code",
   "execution_count": 1,
   "id": "8d9a5571",
   "metadata": {},
   "outputs": [
    {
     "data": {
      "text/plain": [
       "2401"
      ]
     },
     "execution_count": 1,
     "metadata": {},
     "output_type": "execute_result"
    }
   ],
   "source": [
    "7**4"
   ]
  },
  {
   "cell_type": "code",
   "execution_count": 2,
   "id": "95644a8c",
   "metadata": {},
   "outputs": [],
   "source": [
    "s = \"Hi there Yogesh!\""
   ]
  },
  {
   "cell_type": "code",
   "execution_count": 3,
   "id": "e0c47de2",
   "metadata": {},
   "outputs": [
    {
     "data": {
      "text/plain": [
       "['Hi', 'there', 'Yogesh!']"
      ]
     },
     "execution_count": 3,
     "metadata": {},
     "output_type": "execute_result"
    }
   ],
   "source": [
    "s.split()"
   ]
  },
  {
   "cell_type": "code",
   "execution_count": 13,
   "id": "2a347fc8",
   "metadata": {},
   "outputs": [
    {
     "data": {
      "text/plain": [
       "'The diameter is Earth is 12742 kilometers'"
      ]
     },
     "execution_count": 13,
     "metadata": {},
     "output_type": "execute_result"
    }
   ],
   "source": [
    "planet = \"Earth\"\n",
    "diameter = 12742\n",
    "\"The diameter is {} is {} kilometers\".format(planet,diameter)"
   ]
  },
  {
   "cell_type": "code",
   "execution_count": 15,
   "id": "c5e859e8",
   "metadata": {},
   "outputs": [
    {
     "data": {
      "text/plain": [
       "[1, 2, [3, 4], [5, [100, 200, ['hello']], 23, 11], 1, 7]"
      ]
     },
     "execution_count": 15,
     "metadata": {},
     "output_type": "execute_result"
    }
   ],
   "source": [
    "lst = [1,2,[3,4],[5,[100,200,['hello']],23,11],1,7]\n",
    "lst"
   ]
  },
  {
   "cell_type": "code",
   "execution_count": 23,
   "id": "8ff5f1a2",
   "metadata": {},
   "outputs": [
    {
     "data": {
      "text/plain": [
       "'hello'"
      ]
     },
     "execution_count": 23,
     "metadata": {},
     "output_type": "execute_result"
    }
   ],
   "source": [
    "lst[3][1][2][0]"
   ]
  },
  {
   "cell_type": "code",
   "execution_count": 25,
   "id": "801ea13b",
   "metadata": {},
   "outputs": [
    {
     "data": {
      "text/plain": [
       "{'k1': [1,\n",
       "  2,\n",
       "  3,\n",
       "  {'tricky': ['oh', 'man', 'inception', {'target': [1, 2, 3, 'hello']}]}]}"
      ]
     },
     "execution_count": 25,
     "metadata": {},
     "output_type": "execute_result"
    }
   ],
   "source": [
    "d = {'k1':[1,2,3,{'tricky':['oh','man','inception',{'target':[1,2,3,'hello']}]}]}\n",
    "d"
   ]
  },
  {
   "cell_type": "code",
   "execution_count": 38,
   "id": "7952f8c0",
   "metadata": {},
   "outputs": [
    {
     "data": {
      "text/plain": [
       "'hello'"
      ]
     },
     "execution_count": 38,
     "metadata": {},
     "output_type": "execute_result"
    }
   ],
   "source": [
    "d['k1'][3]['tricky'][3]['target'][3]"
   ]
  },
  {
   "cell_type": "code",
   "execution_count": 58,
   "id": "e0399e95",
   "metadata": {},
   "outputs": [],
   "source": [
    "def fun1(x=\"@gmail.com\"):\n",
    "    print (fun1())"
   ]
  },
  {
   "cell_type": "raw",
   "id": "7356ecd5",
   "metadata": {},
   "source": [
    "fun1()"
   ]
  },
  {
   "cell_type": "code",
   "execution_count": 59,
   "id": "e35f51f2",
   "metadata": {},
   "outputs": [],
   "source": [
    "seq = ['soup','dog','salad','cat','great']"
   ]
  },
  {
   "cell_type": "code",
   "execution_count": 60,
   "id": "e449c900",
   "metadata": {},
   "outputs": [
    {
     "data": {
      "text/plain": [
       "['soup', 'dog', 'salad', 'cat', 'great']"
      ]
     },
     "execution_count": 60,
     "metadata": {},
     "output_type": "execute_result"
    }
   ],
   "source": [
    "seq"
   ]
  },
  {
   "cell_type": "code",
   "execution_count": 1,
   "id": "47bd5cd4",
   "metadata": {},
   "outputs": [],
   "source": [
    "def fun1(a):\n",
    "    domain=''\n",
    "    domain=a.split('@')[1]\n",
    "    return domain"
   ]
  },
  {
   "cell_type": "code",
   "execution_count": 3,
   "id": "7536d27c",
   "metadata": {},
   "outputs": [
    {
     "data": {
      "text/plain": [
       "'gmail.com'"
      ]
     },
     "execution_count": 3,
     "metadata": {},
     "output_type": "execute_result"
    }
   ],
   "source": [
    "fun1(\"shivam@gmail.com\")"
   ]
  },
  {
   "cell_type": "code",
   "execution_count": 5,
   "id": "cace4c06",
   "metadata": {},
   "outputs": [],
   "source": [
    "def getdomain(email):\n",
    "    return email.split('@')[-1]"
   ]
  },
  {
   "cell_type": "code",
   "execution_count": 6,
   "id": "9e4225ff",
   "metadata": {},
   "outputs": [
    {
     "data": {
      "text/plain": [
       "'gmail.com'"
      ]
     },
     "execution_count": 6,
     "metadata": {},
     "output_type": "execute_result"
    }
   ],
   "source": [
    "getdomain('shivamkosbatwar@gmail.com')"
   ]
  },
  {
   "cell_type": "code",
   "execution_count": 7,
   "id": "52a99ff3",
   "metadata": {},
   "outputs": [
    {
     "data": {
      "text/plain": [
       "'hotmail.com'"
      ]
     },
     "execution_count": 7,
     "metadata": {},
     "output_type": "execute_result"
    }
   ],
   "source": [
    "getdomain('rakesh@hotmail.com')"
   ]
  },
  {
   "cell_type": "code",
   "execution_count": 11,
   "id": "bf38c678",
   "metadata": {},
   "outputs": [],
   "source": [
    "def dog_find(s):\n",
    "    return 'dog' in s.lower().split()"
   ]
  },
  {
   "cell_type": "code",
   "execution_count": 13,
   "id": "50b97a4c",
   "metadata": {},
   "outputs": [
    {
     "data": {
      "text/plain": [
       "True"
      ]
     },
     "execution_count": 13,
     "metadata": {},
     "output_type": "execute_result"
    }
   ],
   "source": [
    "dog_find('this DOG is faster than another ')"
   ]
  },
  {
   "cell_type": "code",
   "execution_count": 14,
   "id": "5642c446",
   "metadata": {},
   "outputs": [
    {
     "data": {
      "text/plain": [
       "True"
      ]
     },
     "execution_count": 14,
     "metadata": {},
     "output_type": "execute_result"
    }
   ],
   "source": [
    "dog_find('Dog')"
   ]
  },
  {
   "cell_type": "code",
   "execution_count": 15,
   "id": "5249390b",
   "metadata": {},
   "outputs": [
    {
     "data": {
      "text/plain": [
       "True"
      ]
     },
     "execution_count": 15,
     "metadata": {},
     "output_type": "execute_result"
    }
   ],
   "source": [
    "dog_find('doG')"
   ]
  },
  {
   "cell_type": "code",
   "execution_count": 16,
   "id": "c9a12301",
   "metadata": {},
   "outputs": [
    {
     "data": {
      "text/plain": [
       "True"
      ]
     },
     "execution_count": 16,
     "metadata": {},
     "output_type": "execute_result"
    }
   ],
   "source": [
    "dog_find('DOG')"
   ]
  },
  {
   "cell_type": "code",
   "execution_count": 36,
   "id": "cf6285df",
   "metadata": {},
   "outputs": [],
   "source": [
    "def dog_find2(s):\n",
    "    if'dog'in s.split():\n",
    "        return True\n",
    "    elif'Dog' in s.split():\n",
    "        return True\n",
    "    elif'DOG' in s.split():\n",
    "        return True"
   ]
  },
  {
   "cell_type": "code",
   "execution_count": 40,
   "id": "0135e417",
   "metadata": {},
   "outputs": [
    {
     "data": {
      "text/plain": [
       "True"
      ]
     },
     "execution_count": 40,
     "metadata": {},
     "output_type": "execute_result"
    }
   ],
   "source": [
    "dog_find2('DOG')"
   ]
  },
  {
   "cell_type": "code",
   "execution_count": 43,
   "id": "a3fa4b91",
   "metadata": {},
   "outputs": [
    {
     "data": {
      "text/plain": [
       "2"
      ]
     },
     "execution_count": 43,
     "metadata": {},
     "output_type": "execute_result"
    }
   ],
   "source": [
    "s=('This dog runs faster than the other dog dude!')\n",
    "s.count('dog')"
   ]
  },
  {
   "cell_type": "code",
   "execution_count": 3,
   "id": "7235d197",
   "metadata": {},
   "outputs": [
    {
     "name": "stdout",
     "output_type": "stream",
     "text": [
      "enter the input:abcdefij1235\n",
      "1235\n"
     ]
    }
   ],
   "source": [
    "s=input(\"enter the input:\")\n",
    "num=''\n",
    "a=[0,1,2,3,4,5,6,7,8,9]\n",
    "while s=='':\n",
    "    s=input('please enter some input:')\n",
    "else:\n",
    "    if s[0]=='-':\n",
    "        num=num+s[0]\n",
    "    for c in s :\n",
    "        if  c in str(a) :\n",
    "            num=num+c\n",
    "print(num)        "
   ]
  },
  {
   "cell_type": "code",
   "execution_count": 23,
   "id": "73dd048b",
   "metadata": {},
   "outputs": [
    {
     "name": "stdout",
     "output_type": "stream",
     "text": [
      "enter the number:89\n",
      "Number is : 968\n",
      "Reverse is : 869\n",
      "Number is : 1837\n",
      "Reverse is : 7381\n",
      "Number is : 9218\n",
      "Reverse is : 8129\n",
      "Number is : 17347\n",
      "Reverse is : 74371\n",
      "Number is : 91718\n",
      "Reverse is : 81719\n",
      "Number is : 173437\n",
      "Reverse is : 734371\n",
      "Number is : 907808\n",
      "Reverse is : 808709\n",
      "Number is : 1716517\n",
      "Reverse is : 7156171\n",
      "Number is : 8872688\n",
      "Reverse is : 8862788\n",
      "Number is : 17735476\n",
      "Reverse is : 67453771\n",
      "Number is : 85189247\n",
      "Reverse is : 74298158\n",
      "Number is : 159487405\n",
      "Reverse is : 504784951\n",
      "Number is : 664272356\n",
      "Reverse is : 653272466\n",
      "Number is : 1317544822\n",
      "Reverse is : 2284457131\n",
      "Number is : 3602001953\n",
      "Reverse is : 3591002063\n",
      "Number is : 7193004016\n",
      "Reverse is : 6104003917\n",
      "Number is : 13297007933\n",
      "Reverse is : 33970079231\n",
      "Number is : 47267087164\n",
      "Reverse is : 46178076274\n",
      "Number is : 93445163438\n",
      "Reverse is : 83436154439\n",
      "Number is : 176881317877\n",
      "Reverse is : 778713188671\n",
      "Number is : 955594506548\n",
      "Reverse is : 845605495559\n",
      "Number is : 1801200002107\n",
      "Reverse is : 7012000021081\n",
      "Number is : 8813200023188\n",
      "Reverse is : 8813200023188\n",
      "the number is  8813200023188\n"
     ]
    }
   ],
   "source": [
    "num1=input('enter the number:')\n",
    "num2=int(num1[::-1])\n",
    "num3=str(int(num1)+num2)\n",
    "while num3!=num3[::-1]:\n",
    "    num3=str(int(num3)+int(num3[::-1]))\n",
    "    print(\"Number is :\",num3)\n",
    "    print(\"Reverse is :\",num3[::-1])\n",
    "print(\"the number is \",num3)"
   ]
  },
  {
   "cell_type": "code",
   "execution_count": 26,
   "id": "bb0ab662",
   "metadata": {},
   "outputs": [],
   "source": [
    "def find_five_digit():\n",
    "    for i in range(0,10):\n",
    "        first=i\n",
    "        second=i-2\n",
    "        third=i-4\n",
    "        fourth=i-6\n",
    "        fifth=i-4\n",
    "        if (third + fourth + fifth  == first):\n",
    "            if (first + second + third + fourth+ fifth ==19):\n",
    "                print(str(first)+str(second)+str(third)+str(fourth)+str(fifth))"
   ]
  },
  {
   "cell_type": "code",
   "execution_count": 28,
   "id": "5c649903",
   "metadata": {},
   "outputs": [
    {
     "name": "stdout",
     "output_type": "stream",
     "text": [
      "75313\n"
     ]
    }
   ],
   "source": [
    "find_five_digit()"
   ]
  },
  {
   "cell_type": "code",
   "execution_count": null,
   "id": "be829dbb",
   "metadata": {},
   "outputs": [],
   "source": []
  }
 ],
 "metadata": {
  "kernelspec": {
   "display_name": "Python 3 (ipykernel)",
   "language": "python",
   "name": "python3"
  },
  "language_info": {
   "codemirror_mode": {
    "name": "ipython",
    "version": 3
   },
   "file_extension": ".py",
   "mimetype": "text/x-python",
   "name": "python",
   "nbconvert_exporter": "python",
   "pygments_lexer": "ipython3",
   "version": "3.9.12"
  }
 },
 "nbformat": 4,
 "nbformat_minor": 5
}
